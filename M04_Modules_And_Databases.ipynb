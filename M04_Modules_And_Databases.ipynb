{
 "cells": [
  {
   "cell_type": "code",
   "execution_count": 6,
   "id": "6910a5e6",
   "metadata": {},
   "outputs": [
    {
     "name": "stdout",
     "output_type": "stream",
     "text": [
      "Open 9-5 daily\n"
     ]
    }
   ],
   "source": [
    "#Exercise 11.1\n",
    "\n",
    "import zoo #zoo.py must be in folder\n",
    "\n",
    "zoo.hours()\n"
   ]
  },
  {
   "cell_type": "code",
   "execution_count": 7,
   "id": "ac1cd414",
   "metadata": {},
   "outputs": [
    {
     "name": "stdout",
     "output_type": "stream",
     "text": [
      "Open 9-5 daily\n"
     ]
    }
   ],
   "source": [
    "#Exercise 11.2\n",
    "\n",
    "import zoo as menagerie\n",
    "\n",
    "menagerie.hours()"
   ]
  },
  {
   "cell_type": "code",
   "execution_count": null,
   "id": "a01e50e5",
   "metadata": {},
   "outputs": [],
   "source": [
    "#Exercise 16.4\n",
    "#This exercise isn't required for the assignment, but I needed to complete it to understand the work.\n",
    "#Running this cell will create and fill out the books database and table. \n",
    "#It will cause an error and duplicate entries if the books table already exists.\n",
    "\n",
    "import sqlite3\n",
    "\n",
    "#connect to books database\n",
    "conn = sqlite3.connect('books.db')\n",
    "c = conn.cursor()\n",
    "\n",
    "# create books table\n",
    "c.execute('''CREATE TABLE books\n",
    "    (title text, author text, year integer)\n",
    "    ''')\n",
    "\n",
    "# insert data into books table\n",
    "c.execute(\"INSERT INTO books VALUES ('The Weirdstone of Brisingamen', 'Alan Garner', 1960)\")\n",
    "c.execute(\"INSERT INTO books VALUES ('Perdido Street Station', 'China Mieville', 2000)\")\n",
    "c.execute(\"INSERT INTO books VALUES ('Thud!', 'Terry Pratchett', 2005)\")\n",
    "c.execute(\"INSERT INTO books VALUES ('The Spellman Files', 'Lisa Lutz', 2007)\")\n",
    "c.execute(\"INSERT INTO books VALUES ('Small Gods', 'Terry Pratchett', 1992)\")\n",
    "\n",
    "# commit changes\n",
    "conn.commit()\n",
    "\n",
    "# close connection\n",
    "conn.close()"
   ]
  },
  {
   "cell_type": "code",
   "execution_count": 2,
   "id": "e424ae9b",
   "metadata": {},
   "outputs": [
    {
     "name": "stdout",
     "output_type": "stream",
     "text": [
      "('Perdido Street Station',)\n",
      "('Small Gods',)\n",
      "('The Spellman Files',)\n",
      "('The Weirdstone of Brisingamen',)\n",
      "('Thud!',)\n"
     ]
    }
   ],
   "source": [
    "# Exercise 16.8\n",
    "# books database must exist to run this code\n",
    "\n",
    "\n",
    "#import sqlalchemy with sa for an alias\n",
    "import sqlalchemy as sa\n",
    "\n",
    "# connect to sqlite database\n",
    "engine = sa.create_engine('sqlite:///books.db')\n",
    "\n",
    "# select title column from books table\n",
    "result = engine.execute('SELECT title FROM books ORDER BY title')\n",
    "\n",
    "# print titles\n",
    "for row in result:\n",
    "   print(row)\n",
    "\n",
    "\n",
    "\n"
   ]
  },
  {
   "cell_type": "code",
   "execution_count": null,
   "id": "902785d2",
   "metadata": {},
   "outputs": [],
   "source": []
  }
 ],
 "metadata": {
  "kernelspec": {
   "display_name": "Python 3 (ipykernel)",
   "language": "python",
   "name": "python3"
  },
  "language_info": {
   "codemirror_mode": {
    "name": "ipython",
    "version": 3
   },
   "file_extension": ".py",
   "mimetype": "text/x-python",
   "name": "python",
   "nbconvert_exporter": "python",
   "pygments_lexer": "ipython3",
   "version": "3.11.5"
  }
 },
 "nbformat": 4,
 "nbformat_minor": 5
}
